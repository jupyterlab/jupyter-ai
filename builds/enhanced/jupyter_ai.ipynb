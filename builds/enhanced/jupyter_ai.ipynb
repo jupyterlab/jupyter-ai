{
 "cells": [
  {
   "cell_type": "code",
   "execution_count": null,
   "id": "eac509e2-9523-4866-99dd-13f3fea9f066",
   "metadata": {},
   "outputs": [],
   "source": [
    "!pip install jupyter_ai[all]"
   ]
  },
  {
   "cell_type": "code",
   "execution_count": null,
   "id": "bb8dd810-7200-473a-b7ba-e608016f451e",
   "metadata": {},
   "outputs": [],
   "source": [
    "!pip install ./jupyter_ai_magics-2.2.10-py3-none-any.whl --no-cache-dir"
   ]
  },
  {
   "cell_type": "code",
   "execution_count": 3,
   "id": "dd6581da-b908-4b6e-8d8b-deb8a8b6a54b",
   "metadata": {},
   "outputs": [],
   "source": [
    "%load_ext jupyter_ai"
   ]
  },
  {
   "cell_type": "code",
   "execution_count": null,
   "id": "795c855c-54f6-466b-9bbb-04eed92711ae",
   "metadata": {},
   "outputs": [],
   "source": [
    "%%ai sagemaker-endpoint:meta-textgeneration-llama-2-7b-2023-09-19-14-08-22-466 --region-name=us-west-2 --request-schema={\"inputs\":\"<prompt>\"} --response-path=[0].generation -f code\n",
    "Below is an instruction that describes a task, paired with an input that provides further context.\n",
    "Write a response that appropriately completes the request.\n",
    "### Instruction:\n",
    "    find me patients who are female\n",
    "### Input:\n",
    "    This is data about patients with breast cancer.\n",
    "    breast_ads is a pandas dataframe with a list of columns ['birth_date', 'deceased_date', 'sex', 'race', 'ethnicity', 'vital_status','diagnosis_date', 'er_status_diagnosis', 'pr_status_diagnosis','her2_status_diagnosis', 'brca_reported_status']\n",
    "    \n",
    "    Below is the description of each column\n",
    "    birth_date column Patient's year of birth.\n",
    "    deceased_date column is the date of death of a patient if the patient is dead. It is empty if the patient is alive\n",
    "    sex column is Patient's sex as recorded in EMR at diagnosis. \n",
    "    race column is Primary race as recorded in patient EMR at diagnosis. \n",
    "    ethnicity column is Ethnicity as recorded in patient EMR at diagnosis. \n",
    "    vital_status column is Patient's vital status based on the composite mortality score. If no evidence of death, patient will be classified as Alive. \n",
    "    diagnosis_date column is Date (year, month, day) of initial breast cancer diagnosis.\n",
    "    er_status_diagnosis column is the Results from test closest to the date of initial diagnosis and up to 14 days after. Categorized as Negative, Low positive, Positive, Equivocal, Unknown. \n",
    "    pr_status_diagnosis column is the Results from test closest to the date of initial diagnosis and up to 14 days after. \n",
    "    her2_status_diagnosis column Results from test at the time of initial diagnosis and up to 45 days after.  \n",
    "    brca_reported_status column is Germline or somatic BRCA1/2 mutation (ever). Categories are positive, negative and unknown"
   ]
  }
 ],
 "metadata": {
  "kernelspec": {
   "display_name": "Python 3 (ipykernel)",
   "language": "python",
   "name": "python3"
  },
  "language_info": {
   "codemirror_mode": {
    "name": "ipython",
    "version": 3
   },
   "file_extension": ".py",
   "mimetype": "text/x-python",
   "name": "python",
   "nbconvert_exporter": "python",
   "pygments_lexer": "ipython3",
   "version": "3.10.5"
  }
 },
 "nbformat": 4,
 "nbformat_minor": 5
}
