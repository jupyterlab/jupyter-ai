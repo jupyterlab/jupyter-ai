{
 "cells": [
  {
   "cell_type": "code",
   "execution_count": null,
   "id": "0e50deb3-e694-4f4a-b863-f249e6a420c8",
   "metadata": {},
   "outputs": [],
   "source": [
    "!pip install jupyter_ai[all]"
   ]
  },
  {
   "cell_type": "code",
   "execution_count": null,
   "id": "dd9c343d-8f2b-482f-a788-524d6376b14a",
   "metadata": {},
   "outputs": [],
   "source": [
    "!pip install ./jupyter_ai_magics-2.2.12-py3-none-any.whl --no-cache-dir"
   ]
  },
  {
   "cell_type": "code",
   "execution_count": 3,
   "id": "dd77a9de-45e7-44a5-8920-675b53bddf62",
   "metadata": {},
   "outputs": [],
   "source": [
    "import pandas as pd\n",
    "import boto3\n",
    "region=\"us-west-2\"\n",
    "%load_ext jupyter_ai"
   ]
  },
  {
   "cell_type": "code",
   "execution_count": 4,
   "id": "e3743ddb-19c7-4a17-8c13-888262b6e4cb",
   "metadata": {},
   "outputs": [],
   "source": [
    "# load Breast ADS\n",
    "breast_ads = pd.read_parquet(\"s3://syapse-jupyterhub-sandbox/spotlight/breast/version=1694112485597/analytical_dataset/part-00000-0b0e8030-f7d3-453a-8c3e-9bdbbe460c19-c000.snappy.parquet\")"
   ]
  },
  {
   "cell_type": "code",
   "execution_count": null,
   "id": "620d974e-eba1-47e8-a505-1a1f0656cc62",
   "metadata": {},
   "outputs": [],
   "source": [
    "%%ai sagemaker-endpoint:meta-textgeneration-llama-2-7b-2023-09-19-14-08-22-466 --region-name=us-west-2 --request-schema={\"inputs\":\"<prompt>\"} --response-path=[0].generation -f code\n",
    "find me patients who are female"
   ]
  }
 ],
 "metadata": {
  "kernelspec": {
   "display_name": "Python 3 (ipykernel)",
   "language": "python",
   "name": "python3"
  },
  "language_info": {
   "codemirror_mode": {
    "name": "ipython",
    "version": 3
   },
   "file_extension": ".py",
   "mimetype": "text/x-python",
   "name": "python",
   "nbconvert_exporter": "python",
   "pygments_lexer": "ipython3",
   "version": "3.10.5"
  }
 },
 "nbformat": 4,
 "nbformat_minor": 5
}
