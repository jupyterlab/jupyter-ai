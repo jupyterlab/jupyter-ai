{
 "cells": [
  {
   "cell_type": "code",
   "execution_count": null,
   "id": "dd9c343d-8f2b-482f-a788-524d6376b14a",
   "metadata": {},
   "outputs": [],
   "source": [
    "!pip install s3fs && pip install jupyter_ai[all] && pip install ./jupyter_ai_magics-2.2.17-py3-none-any.whl --no-cache-dir --force-reinstall"
   ]
  },
  {
   "cell_type": "code",
   "execution_count": 3,
   "id": "dd77a9de-45e7-44a5-8920-675b53bddf62",
   "metadata": {},
   "outputs": [],
   "source": [
    "import pandas as pd\n",
    "import boto3\n",
    "from jupyter_ai_magics.utils import explode_columns, load_make_plots\n",
    "region=\"us-west-2\"\n",
    "# load jupyter_ai\n",
    "%load_ext jupyter_ai\n",
    "# Register alias\n",
    "%ai register raydar-ai sagemaker-endpoint:meta-textgeneration-llama-2-7b-2023-09-20-19-24-48-464\n",
    "# load Breast ADS\n",
    "breast_ads_orig = pd.read_parquet(\n",
    "    \"s3://syapse-deidentify-emr-data/deidentify/ads/breast.parquet\",\n",
    "    columns=['birth_date_year', 'has_family_history_cancer', 'marital_status', 'brca_reported_status', 'deceased_date', 'diagnosis_date', 'diagnosis_date_year', 'er_status_diagnosis', 'ethnicity', 'grade', 'her2_status_diagnosis', 'histology_group', 'icdo3_topography', 'insurance_status_dx', 'menopausal_status_diagnosis', 'packsperday', 'patientid', 'pr_status_diagnosis', 'prioritized_stage_group_dx', 'race', 'region', 'sex', 'smoking_pack_years', 'smoking_years', 'vital_status', 'systemic_therapy', 'her2_biomarker_data', 'hrd_biomarker_data'])\n",
    "breast_ads_orig['patientId'] = breast_ads_orig['patientid']\n",
    "make_plots = load_make_plots(breast_ads_orig)\n",
    "breast_ads = explode_columns(breast_ads_orig, ['systemic_therapy', 'her2_biomarker_data', 'hrd_biomarker_data'])"
   ]
  },
  {
   "cell_type": "code",
   "execution_count": null,
   "id": "620d974e-eba1-47e8-a505-1a1f0656cc62",
   "metadata": {},
   "outputs": [],
   "source": [
    "%%ai raydar-ai --region-name=us-west-2 --request-schema={\"inputs\":\"<prompt>\"} --response-path=[0].generation -f code\n",
    "Find breast cacer patients that are HER2 negative and create plots"
   ]
  }
 ],
 "metadata": {
  "kernelspec": {
   "display_name": "Python 3 (ipykernel)",
   "language": "python",
   "name": "python3"
  },
  "language_info": {
   "codemirror_mode": {
    "name": "ipython",
    "version": 3
   },
   "file_extension": ".py",
   "mimetype": "text/x-python",
   "name": "python",
   "nbconvert_exporter": "python",
   "pygments_lexer": "ipython3",
   "version": "3.10.5"
  }
 },
 "nbformat": 4,
 "nbformat_minor": 5
}
