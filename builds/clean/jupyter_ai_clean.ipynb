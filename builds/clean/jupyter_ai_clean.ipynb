{
 "cells": [
  {
   "cell_type": "code",
   "execution_count": null,
   "id": "5122a2de-489e-4a7c-854a-70a2f3227d3b",
   "metadata": {},
   "outputs": [],
   "source": [
    "!pip install jupyter_ai[all]"
   ]
  },
  {
   "cell_type": "code",
   "execution_count": null,
   "id": "f0d07642-97ea-4c86-895b-437bf9f65389",
   "metadata": {},
   "outputs": [],
   "source": [
    "!pip install ./jupyter_ai_magics-2.2.12-py3-none-any.whl --no-cache-dir"
   ]
  },
  {
   "cell_type": "code",
   "execution_count": 3,
   "id": "dd77a9de-45e7-44a5-8920-675b53bddf62",
   "metadata": {},
   "outputs": [],
   "source": [
    "%load_ext jupyter_ai"
   ]
  },
  {
   "cell_type": "code",
   "execution_count": null,
   "id": "d93f13c1-25d9-4f47-b20e-a6fa8accd501",
   "metadata": {},
   "outputs": [],
   "source": [
    "%%ai sagemaker-endpoint:meta-textgeneration-llama-2-7b-2023-09-19-14-08-22-466 --region-name=us-west-2 --request-schema={\"inputs\":\"<prompt>\"} --response-path=[0].generation -f code\n",
    "find me patients who are female"
   ]
  }
 ],
 "metadata": {
  "kernelspec": {
   "display_name": "Python 3 (ipykernel)",
   "language": "python",
   "name": "python3"
  },
  "language_info": {
   "codemirror_mode": {
    "name": "ipython",
    "version": 3
   },
   "file_extension": ".py",
   "mimetype": "text/x-python",
   "name": "python",
   "nbconvert_exporter": "python",
   "pygments_lexer": "ipython3",
   "version": "3.10.5"
  }
 },
 "nbformat": 4,
 "nbformat_minor": 5
}
